{
 "cells": [
  {
   "cell_type": "code",
   "execution_count": 1,
   "metadata": {},
   "outputs": [],
   "source": [
    "#\n",
    "# ESADE - Master in Business Analytics and Big Data\n",
    "# Recommendation Systems\n",
    "# Building a Non Personalized Recommendation Engine\n",
    "#\n",
    "# Nensi Hakobjanyan\n",
    "#"
   ]
  },
  {
   "cell_type": "code",
   "execution_count": 2,
   "metadata": {},
   "outputs": [],
   "source": [
    "# imports the libraries\n",
    "import csv\n",
    "import numpy as np\n",
    "import pandas as pd"
   ]
  },
  {
   "cell_type": "code",
   "execution_count": 4,
   "metadata": {},
   "outputs": [],
   "source": [
    "# builds the critics data set\n",
    "input_file = pd.read_csv(\"../../DataSets/movieratings.csv\")"
   ]
  },
  {
   "cell_type": "code",
   "execution_count": 5,
   "metadata": {},
   "outputs": [],
   "source": [
    "# Algorithms\n",
    "\n",
    "# Mean Rating: Calculate the mean rating for each movie, order with the \n",
    "# highest rating listed first, and submit the top n.\n",
    "#\n",
    "# Output example:\n",
    "# [ (4.2000000000000001, '222: The Matrix'), \n",
    "#   (3.5999999966666622, '233: Alien'), \n",
    "#   (3.3343434322222223, '3434: The Silence of the Lambs'), \n",
    "#   (3.2222222222222222, '111: The Water Divider'), \n",
    "#   (3.0022332223330625, '333: , Robocop')]\n",
    "def topMean(prefs,n=5):\n",
    "    #not much to comment, just calculating the mean and sorting the values from highest\n",
    "    scores=prefs.mean().sort_values(ascending=False)\n",
    "    return scores[0:n]"
   ]
  },
  {
   "cell_type": "code",
   "execution_count": 6,
   "metadata": {},
   "outputs": [
    {
     "data": {
      "text/plain": [
       "318: Shawshank Redemption, The (1994)             3.600000\n",
       "260: Star Wars: Episode IV - A New Hope (1977)    3.266667\n",
       "541: Blade Runner (1982)                          3.222222\n",
       "1265: Groundhog Day (1993)                        3.166667\n",
       "593: Silence of the Lambs, The (1991)             3.062500\n",
       "dtype: float64"
      ]
     },
     "execution_count": 6,
     "metadata": {},
     "output_type": "execute_result"
    }
   ],
   "source": [
    "topMean(input_file, n=5)"
   ]
  },
  {
   "cell_type": "code",
   "execution_count": 9,
   "metadata": {},
   "outputs": [],
   "source": [
    "# % of ratings r+: Calculate the percentage of ratings for each movie \n",
    "# that are r or higher. Order with the highest percentage first, and submit the top n.\n",
    "\n",
    "def topPerc(prefs,r=3,n=5):\n",
    "    #turning movie  titles to a column to handle it easier \n",
    "    input_titles=pd.melt(prefs, id_vars=[\"User\"], var_name='title')\n",
    "    #I filtered for values higher than r\n",
    "    high_rank=input_titles.loc[input_titles['value'] >= r]\n",
    "    #I counted the number of reviews for ratings 3,4,5(or any arbitrary ratings this is for our default case) grouped by title, and summed them to get the aggregate number of reviews higher than r\n",
    "    rank=high_rank.groupby(['title','value']).count().unstack().sum(axis=1)\n",
    "    #the same procedure but for all ratings irrespective of our threshhold r to get the percentage later\n",
    "    total=input_titles.groupby(['title','value']).count().unstack().sum(axis=1)\n",
    "    #here I used the total number of rankings higher than r divided by the total number of rankings, and sorted the values\n",
    "    scores=(rank/total).sort_values(ascending=False)\n",
    "    return scores[0:n]"
   ]
  },
  {
   "cell_type": "code",
   "execution_count": 10,
   "metadata": {},
   "outputs": [
    {
     "data": {
      "text/plain": [
       "title\n",
       "318: Shawshank Redemption, The (1994)                      0.700000\n",
       "541: Blade Runner (1982)                                   0.666667\n",
       "260: Star Wars: Episode IV - A New Hope (1977)             0.666667\n",
       "1210: Star Wars: Episode VI - Return of the Jedi (1983)    0.642857\n",
       "1198: Raiders of the Lost Ark (1981)                       0.636364\n",
       "dtype: float64"
      ]
     },
     "execution_count": 10,
     "metadata": {},
     "output_type": "execute_result"
    }
   ],
   "source": [
    "topPerc(input_file)"
   ]
  },
  {
   "cell_type": "code",
   "execution_count": 11,
   "metadata": {},
   "outputs": [],
   "source": [
    "# Rating Count: Count the number of ratings for each movie, order with \n",
    "# the most number of ratings first, and submit the top n.\n",
    "\n",
    "def topCount(prefs,n=5):\n",
    "    #I just took the numeric values of the my data, which are the ratings, counted them and sorted\n",
    "    scores=prefs.count(numeric_only=True).sort_values(ascending=False)\n",
    "    return scores[0:n]"
   ]
  },
  {
   "cell_type": "code",
   "execution_count": 12,
   "metadata": {},
   "outputs": [
    {
     "data": {
      "text/plain": [
       "1: Toy Story (1995)                                        17\n",
       "593: Silence of the Lambs, The (1991)                      16\n",
       "260: Star Wars: Episode IV - A New Hope (1977)             15\n",
       "1210: Star Wars: Episode VI - Return of the Jedi (1983)    14\n",
       "780: Independence Day (ID4) (1996)                         13\n",
       "dtype: int64"
      ]
     },
     "execution_count": 12,
     "metadata": {},
     "output_type": "execute_result"
    }
   ],
   "source": [
    "topCount(input_file)"
   ]
  },
  {
   "cell_type": "code",
   "execution_count": 13,
   "metadata": {},
   "outputs": [],
   "source": [
    "# Top 5 Movies related: Calculate movies that most often occur with \n",
    "# other movie, Star Wars: Episode IV - A New Hope (1977) by defautl\n",
    "# using the (x+y)/x method. In other words, for each movie, calculate the \n",
    "# percentage of the other movie raters who also rated that movie. Order with \n",
    "# the highest percentage first, and submit the top 5.\n",
    "\n",
    "def topOccur(prefs,x='260: Star Wars: Episode IV - A New Hope (1977)',n=5):\n",
    "    #Here I am dropping the NA values because we need to take the users that bought/watched this one movie we select as our item #1\n",
    "    prefs = prefs[prefs[x].notna()]\n",
    "    #we count them\n",
    "    items=len(prefs[x].notna())\n",
    "    #I need two empty lists where I will be storing the number of ratings(NAs excluded) and the title of the movie\n",
    "    my_movie=[]\n",
    "    otro_movies=[]\n",
    "    #starting a loop that takes all the columns of our prefs(input_file), neglecting the first column, which is User names\n",
    "    for movie in prefs.columns[1:input_file.shape[0]]:\n",
    "        #also we need to make sure the loop is not comparing the person who watched the movie to themselves, so the condition is that it's not the same movie\n",
    "        if (movie != x):\n",
    "            #again dropping NAs and storing the movie titles that rated both\n",
    "            test=prefs[prefs[movie].notna()]\n",
    "            #appending the lists one to store the length(basically count) for the movie titles we had\n",
    "            my_movie.append(len(test[movie]))\n",
    "            #the other just all so that we can calculate the percentage\n",
    "            otro_movies.append(movie)\n",
    "    #to handle it easier we are creating a dataframe where we have count of ratings and movie title        \n",
    "    test=pd.DataFrame(my_movie,otro_movies)\n",
    "    #now we just calculate percentage, and sort them from highest\n",
    "    scores=(test.iloc[:,0]/items).sort_values(ascending=False)\n",
    "    return scores[0:n]\n"
   ]
  },
  {
   "cell_type": "code",
   "execution_count": 15,
   "metadata": {},
   "outputs": [
    {
     "data": {
      "text/plain": [
       "1: Toy Story (1995)                                        0.933333\n",
       "1210: Star Wars: Episode VI - Return of the Jedi (1983)    0.866667\n",
       "593: Silence of the Lambs, The (1991)                      0.800000\n",
       "780: Independence Day (ID4) (1996)                         0.733333\n",
       "2916: Total Recall (1990)                                  0.666667\n",
       "Name: 0, dtype: float64"
      ]
     },
     "execution_count": 15,
     "metadata": {},
     "output_type": "execute_result"
    }
   ],
   "source": [
    "topOccur(input_file,x='260: Star Wars: Episode IV - A New Hope (1977)',n=5)"
   ]
  },
  {
   "cell_type": "code",
   "execution_count": null,
   "metadata": {},
   "outputs": [],
   "source": []
  }
 ],
 "metadata": {
  "kernelspec": {
   "display_name": "Python 3",
   "language": "python",
   "name": "python3"
  },
  "language_info": {
   "codemirror_mode": {
    "name": "ipython",
    "version": 3
   },
   "file_extension": ".py",
   "mimetype": "text/x-python",
   "name": "python",
   "nbconvert_exporter": "python",
   "pygments_lexer": "ipython3",
   "version": "3.7.3"
  }
 },
 "nbformat": 4,
 "nbformat_minor": 2
}
